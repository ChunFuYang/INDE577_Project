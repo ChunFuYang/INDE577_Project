{
 "cells": [
  {
   "cell_type": "markdown",
   "id": "1fc2e9da",
   "metadata": {},
   "source": [
    "# Perceptron Algorithm on the Wine Dataset\n",
    "This notebook demonstrates the Perceptron algorithm for binary classification using the Wine dataset from sklearn."
   ]
  },
  {
   "cell_type": "code",
   "execution_count": 110,
   "id": "fcecd3f9",
   "metadata": {},
   "outputs": [],
   "source": [
    "# Import libraries\n",
    "import numpy as np\n",
    "import matplotlib.pyplot as plt\n",
    "from sklearn.datasets import load_wine\n",
    "from sklearn.model_selection import train_test_split\n",
    "from sklearn.preprocessing import StandardScaler\n",
    "from sklearn.metrics import accuracy_score, classification_report, confusion_matrix, ConfusionMatrixDisplay"
   ]
  },
  {
   "cell_type": "markdown",
   "id": "92953fb1",
   "metadata": {},
   "source": [
    "## Load and Prepare the Data"
   ]
  },
  {
   "cell_type": "code",
   "execution_count": 111,
   "id": "1f962c2c",
   "metadata": {},
   "outputs": [],
   "source": [
    "wine = load_wine()\n",
    "X = wine.data\n",
    "y = wine.target\n",
    "X_train, X_test, y_train, y_test = train_test_split(X, y, test_size=0.2, random_state=42)\n",
    "scaler = StandardScaler()\n",
    "X_train = scaler.fit_transform(X_train)\n",
    "X_test = scaler.transform(X_test)\n"
   ]
  },
  {
   "cell_type": "code",
   "execution_count": 112,
   "id": "1be31994",
   "metadata": {},
   "outputs": [
    {
     "name": "stdout",
     "output_type": "stream",
     "text": [
      "Feature names: ['alcohol', 'malic_acid', 'ash', 'alcalinity_of_ash', 'magnesium', 'total_phenols', 'flavanoids', 'nonflavanoid_phenols', 'proanthocyanins', 'color_intensity', 'hue', 'od280/od315_of_diluted_wines', 'proline']\n",
      "Target names: ['class_0' 'class_1' 'class_2']\n"
     ]
    }
   ],
   "source": [
    "print('Feature names:', wine.feature_names)\n",
    "print('Target names:', wine.target_names)"
   ]
  },
  {
   "cell_type": "markdown",
   "id": "c097d308",
   "metadata": {},
   "source": [
    "## Implement the Perceptron Algorithm"
   ]
  },
  {
   "cell_type": "code",
   "execution_count": null,
   "id": "b8079e39",
   "metadata": {},
   "outputs": [],
   "source": [
    "class Perceptron:\n",
    "    def __init__(self, lr=0.01, n_iter=100):\n",
    "        self.lr = lr\n",
    "        self.n_iter = n_iter\n",
    "        self.weights = None\n",
    "        self.bias = None\n",
    "        self.losses = []\n",
    "    def fit(self, X, y):\n",
    "        self.weights = np.zeros(X.shape[1])\n",
    "        self.bias = 0\n",
    "        self.losses = []\n",
    "        for _ in range(self.n_iter):\n",
    "            errors = 0\n",
    "            for xi, target in zip(X, y):\n",
    "                linear_output = np.dot(xi, self.weights) + self.bias\n",
    "                y_pred = 1 if linear_output >= 0 else 0\n",
    "                update = self.lr * (target - y_pred)\n",
    "                self.weights += update * xi\n",
    "                self.bias += update\n",
    "                if y_pred != target:\n",
    "                    errors += 1\n",
    "            self.losses.append(errors)\n",
    "    def predict(self, X):\n",
    "        linear_output = np.dot(X, self.weights) + self.bias\n",
    "        return 1 if linear_output >= 0 else 0"
   ]
  },
  {
   "cell_type": "markdown",
   "id": "df03b634",
   "metadata": {},
   "source": [
    "## Train the Perceptron"
   ]
  },
  {
   "cell_type": "code",
   "execution_count": 114,
   "id": "36c73848",
   "metadata": {},
   "outputs": [],
   "source": [
    "# Train on a binary task (class 0 vs not 0)\n",
    "y_train_bin = (y_train == 0).astype(int)\n",
    "y_test_bin = (y_test == 0).astype(int)\n",
    "perceptron = Perceptron(lr=0.01, n_iter=100)\n",
    "perceptron.fit(X_train, y_train_bin)"
   ]
  },
  {
   "cell_type": "markdown",
   "id": "98bb055f",
   "metadata": {},
   "source": [
    "## Evaluate the Perceptron"
   ]
  },
  {
   "cell_type": "code",
   "execution_count": null,
   "id": "600c8871",
   "metadata": {},
   "outputs": [
    {
     "name": "stdout",
     "output_type": "stream",
     "text": [
      "Perceptron output for test sample 0: 1\n"
     ]
    }
   ],
   "source": [
    "# Plot training loss curve\n",
    "plt.figure(figsize=(8,4))\n",
    "plt.plot(perceptron.losses)\n",
    "plt.title('Perceptron Training Loss (Misclassifications per Epoch)')\n",
    "plt.xlabel('Epoch')\n",
    "plt.ylabel('Number of Misclassifications')\n",
    "plt.grid(True)\n",
    "plt.show()\n",
    "\n",
    "# Evaluate on test set\n",
    "y_pred = [perceptron.predict(x) for x in X_test]\n",
    "print('Accuracy:', accuracy_score(y_test_bin, y_pred))\n",
    "print(classification_report(y_test_bin, y_pred, target_names=['not class 0', 'class 0']))\n",
    "cm = confusion_matrix(y_test_bin, y_pred)\n",
    "disp = ConfusionMatrixDisplay(confusion_matrix=cm, display_labels=['not class 0', 'class 0'])\n",
    "disp.plot(cmap=plt.cm.Blues)\n",
    "plt.title('Confusion Matrix')\n",
    "plt.show()\n",
    "\n",
    "# Show 5 example predictions\n",
    "for i in range(5):\n",
    "    print(f'Example {i+1}: True label = {y_test_bin[i]}, Predicted = {y_pred[i]}')\n",
    "\n",
    "# Analysis\n",
    "print(\"\"\"\n",
    "## Analysis and Discussion\n",
    "The perceptron is a simple linear classifier. On the Wine dataset (class 0 vs not 0), it may not reach perfect accuracy due to the non-linear separability of the data. The loss curve shows how the number of misclassifications changes over epochs. The confusion matrix and classification report provide insight into the model's strengths and weaknesses. More advanced models or feature engineering may improve performance.\n",
    "\"\"\")"
   ]
  }
 ],
 "metadata": {
  "kernelspec": {
   "display_name": ".venv",
   "language": "python",
   "name": "python3"
  },
  "language_info": {
   "codemirror_mode": {
    "name": "ipython",
    "version": 3
   },
   "file_extension": ".py",
   "mimetype": "text/x-python",
   "name": "python",
   "nbconvert_exporter": "python",
   "pygments_lexer": "ipython3",
   "version": "3.11.5"
  }
 },
 "nbformat": 4,
 "nbformat_minor": 5
}
