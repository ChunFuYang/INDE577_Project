{
 "cells": [
  {
   "cell_type": "markdown",
   "id": "2ab8b850",
   "metadata": {},
   "source": [
    "# Basic Programming Constructs\n",
    "This Jupyter notebook demonstrates all basic programming constructs in Python, including functions, loops, conditionals, lists, and exception handling."
   ]
  },
  {
   "cell_type": "markdown",
   "id": "5ebfe438",
   "metadata": {},
   "source": [
    "## Define a Function\n",
    "Write a Python function that takes two arguments and returns their sum."
   ]
  },
  {
   "cell_type": "code",
   "execution_count": null,
   "id": "90b2e112",
   "metadata": {},
   "outputs": [],
   "source": [
    "def add_numbers(a, b):\n",
    "    \"\"\"\n",
    "    Returns the sum of two numbers.\n",
    "    \"\"\"\n",
    "    return a + b\n",
    "\n",
    "# Example usage\n",
    "result = add_numbers(5, 7)\n",
    "print(\"Sum:\", result)"
   ]
  },
  {
   "cell_type": "markdown",
   "id": "1eb7f26a",
   "metadata": {},
   "source": [
    "## Implement a Loop\n",
    "Use a for loop to iterate over a range of numbers and print each number."
   ]
  },
  {
   "cell_type": "code",
   "execution_count": null,
   "id": "c1c93ee7",
   "metadata": {},
   "outputs": [],
   "source": [
    "for i in range(1, 6):\n",
    "    print(\"Number:\", i)"
   ]
  },
  {
   "cell_type": "markdown",
   "id": "e179dd4e",
   "metadata": {},
   "source": [
    "## Use Conditional Statements\n",
    "Write an if-else statement to check if a number is even or odd."
   ]
  },
  {
   "cell_type": "code",
   "execution_count": null,
   "id": "7cab421f",
   "metadata": {},
   "outputs": [],
   "source": [
    "number = 8\n",
    "\n",
    "if number % 2 == 0:\n",
    "    print(number, \"is even\")\n",
    "else:\n",
    "    print(number, \"is odd\")"
   ]
  },
  {
   "cell_type": "markdown",
   "id": "05d1bb69",
   "metadata": {},
   "source": [
    "## Work with Lists\n",
    "Create a list of numbers and use a loop to calculate their sum."
   ]
  },
  {
   "cell_type": "code",
   "execution_count": null,
   "id": "99496c88",
   "metadata": {},
   "outputs": [],
   "source": [
    "numbers = [2, 4, 6, 8, 10]\n",
    "total = 0\n",
    "\n",
    "for num in numbers:\n",
    "    total += num\n",
    "\n",
    "print(\"Sum of list:\", total)"
   ]
  },
  {
   "cell_type": "markdown",
   "id": "2c37eb02",
   "metadata": {},
   "source": [
    "## Handle Exceptions\n",
    "Use a try-except block to handle division by zero errors."
   ]
  },
  {
   "cell_type": "code",
   "execution_count": null,
   "id": "c01a2d17",
   "metadata": {},
   "outputs": [],
   "source": [
    "numerator = 10\n",
    "denominator = 0\n",
    "\n",
    "try:\n",
    "    result = numerator / denominator\n",
    "    print(\"Result:\", result)\n",
    "except ZeroDivisionError:\n",
    "    print(\"Error: Division by zero is not allowed.\")"
   ]
  }
 ],
 "metadata": {
  "language_info": {
   "name": "python"
  }
 },
 "nbformat": 4,
 "nbformat_minor": 5
}
