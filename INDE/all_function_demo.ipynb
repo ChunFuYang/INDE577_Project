{
 "cells": [
  {
   "cell_type": "markdown",
   "id": "9460ddcc",
   "metadata": {},
   "source": [
    "# Import Required Libraries\n",
    "Import any necessary libraries (if required) for demonstration purposes."
   ]
  },
  {
   "cell_type": "code",
   "execution_count": null,
   "id": "4235ed01",
   "metadata": {},
   "outputs": [],
   "source": [
    "# No external libraries are required for demonstrating the all() function."
   ]
  }
 ],
 "metadata": {
  "language_info": {
   "name": "python"
  }
 },
 "nbformat": 4,
 "nbformat_minor": 5
}
