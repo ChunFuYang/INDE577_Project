{
 "cells": [
  {
   "cell_type": "markdown",
   "id": "3a9063e5",
   "metadata": {},
   "source": [
    "# Programming Constructs in Python\n",
    "\n",
    "This notebook demonstrates various fundamental programming constructs in Python, including functions, loops, conditionals, exception handling, lists, dictionaries, and object-oriented programming."
   ]
  },
  {
   "cell_type": "markdown",
   "id": "8535c372",
   "metadata": {},
   "source": [
    "## Define a Function\n",
    "\n",
    "Write a Python function that takes input parameters and returns a result."
   ]
  },
  {
   "cell_type": "code",
   "execution_count": null,
   "id": "272a8e8a",
   "metadata": {},
   "outputs": [],
   "source": [
    "def add_numbers(a, b):\n",
    "    \"\"\"\n",
    "    Returns the sum of two numbers.\n",
    "    \"\"\"\n",
    "    return a + b\n",
    "\n",
    "# Example usage\n",
    "result = add_numbers(5, 7)\n",
    "print(f\"The sum is: {result}\")"
   ]
  },
  {
   "cell_type": "markdown",
   "id": "70f38047",
   "metadata": {},
   "source": [
    "## Implement a Loop\n",
    "\n",
    "Demonstrate the use of for and while loops to iterate over a range or collection."
   ]
  },
  {
   "cell_type": "code",
   "execution_count": null,
   "id": "8c924625",
   "metadata": {},
   "outputs": [],
   "source": [
    "# For loop example: Print numbers from 1 to 5\n",
    "for i in range(1, 6):\n",
    "    print(f\"For loop iteration: {i}\")\n",
    "\n",
    "# While loop example: Print numbers from 5 down to 1\n",
    "count = 5\n",
    "while count > 0:\n",
    "    print(f\"While loop iteration: {count}\")\n",
    "    count -= 1"
   ]
  },
  {
   "cell_type": "markdown",
   "id": "86ea14a4",
   "metadata": {},
   "source": [
    "## Use Conditional Statements\n",
    "\n",
    "Implement if-elif-else statements to handle different conditions."
   ]
  },
  {
   "cell_type": "code",
   "execution_count": null,
   "id": "423e118a",
   "metadata": {},
   "outputs": [],
   "source": [
    "def check_number(num):\n",
    "    if num > 0:\n",
    "        print(\"The number is positive.\")\n",
    "    elif num < 0:\n",
    "        print(\"The number is negative.\")\n",
    "    else:\n",
    "        print(\"The number is zero.\")\n",
    "\n",
    "# Example usage\n",
    "check_number(10)\n",
    "check_number(-3)\n",
    "check_number(0)"
   ]
  },
  {
   "cell_type": "markdown",
   "id": "117077aa",
   "metadata": {},
   "source": [
    "## Handle Exceptions\n",
    "\n",
    "Use try-except blocks to handle potential errors in the code."
   ]
  },
  {
   "cell_type": "code",
   "execution_count": null,
   "id": "7dffe7d8",
   "metadata": {},
   "outputs": [],
   "source": [
    "try:\n",
    "    numerator = 10\n",
    "    denominator = 0\n",
    "    result = numerator / denominator\n",
    "except ZeroDivisionError:\n",
    "    print(\"Error: Cannot divide by zero.\")\n",
    "except Exception as e:\n",
    "    print(f\"An unexpected error occurred: {e}\")\n",
    "else:\n",
    "    print(f\"Result: {result}\")\n",
    "finally:\n",
    "    print(\"Execution completed.\")"
   ]
  },
  {
   "cell_type": "markdown",
   "id": "da7bcd5b",
   "metadata": {},
   "source": [
    "## Work with Lists\n",
    "\n",
    "Perform operations like appending, removing, and iterating over a list."
   ]
  },
  {
   "cell_type": "code",
   "execution_count": null,
   "id": "2e1336be",
   "metadata": {},
   "outputs": [],
   "source": [
    "fruits = [\"apple\", \"banana\", \"cherry\"]\n",
    "\n",
    "# Append an item\n",
    "fruits.append(\"orange\")\n",
    "print(\"After appending:\", fruits)\n",
    "\n",
    "# Remove an item\n",
    "fruits.remove(\"banana\")\n",
    "print(\"After removing banana:\", fruits)\n",
    "\n",
    "# Iterate over the list\n",
    "for fruit in fruits:\n",
    "    print(\"Fruit:\", fruit)"
   ]
  },
  {
   "cell_type": "markdown",
   "id": "b04e04d5",
   "metadata": {},
   "source": [
    "## Work with Dictionaries\n",
    "\n",
    "Demonstrate adding, updating, and retrieving key-value pairs in a dictionary."
   ]
  },
  {
   "cell_type": "code",
   "execution_count": null,
   "id": "20b682a0",
   "metadata": {},
   "outputs": [],
   "source": [
    "person = {\"name\": \"Alice\", \"age\": 30}\n",
    "\n",
    "# Add a new key-value pair\n",
    "person[\"city\"] = \"New York\"\n",
    "\n",
    "# Update an existing value\n",
    "person[\"age\"] = 31\n",
    "\n",
    "# Retrieve values\n",
    "print(\"Name:\", person[\"name\"])\n",
    "print(\"Age:\", person[\"age\"])\n",
    "print(\"City:\", person[\"city\"])"
   ]
  },
  {
   "cell_type": "markdown",
   "id": "5826da35",
   "metadata": {},
   "source": [
    "## Use Classes and Objects\n",
    "\n",
    "Define a class, create objects, and demonstrate methods and attributes."
   ]
  },
  {
   "cell_type": "code",
   "execution_count": null,
   "id": "db161b04",
   "metadata": {},
   "outputs": [],
   "source": [
    "class Dog:\n",
    "    def __init__(self, name, age):\n",
    "        self.name = name\n",
    "        self.age = age\n",
    "\n",
    "    def bark(self):\n",
    "        print(f\"{self.name} says woof!\")\n",
    "\n",
    "# Create an object\n",
    "my_dog = Dog(\"Buddy\", 4)\n",
    "\n",
    "# Access attributes and methods\n",
    "print(f\"My dog's name is {my_dog.name} and he is {my_dog.age} years old.\")\n",
    "my_dog.bark()"
   ]
  },
  {
   "cell_type": "markdown",
   "id": "a3d202f6",
   "metadata": {},
   "source": [
    "# Programming Constructs Notebook\n",
    "\n",
    "This Jupyter notebook demonstrates various fundamental programming constructs in Python, including functions, loops, conditionals, exception handling, lists, dictionaries, and classes."
   ]
  },
  {
   "cell_type": "markdown",
   "id": "04c09331",
   "metadata": {},
   "source": [
    "## Define a Function\n",
    "\n",
    "Write a Python function that takes input parameters and returns a result."
   ]
  },
  {
   "cell_type": "code",
   "execution_count": null,
   "id": "94d74256",
   "metadata": {},
   "outputs": [],
   "source": [
    "def add_numbers(a, b):\n",
    "    \"\"\"\n",
    "    Returns the sum of two numbers.\n",
    "    \"\"\"\n",
    "    return a + b\n",
    "\n",
    "# Example usage\n",
    "result = add_numbers(5, 7)\n",
    "print(\"Sum:\", result)"
   ]
  },
  {
   "cell_type": "markdown",
   "id": "4aa518a4",
   "metadata": {},
   "source": [
    "## Implement a Loop\n",
    "\n",
    "Use a for loop and a while loop to iterate over a range of numbers or a collection."
   ]
  },
  {
   "cell_type": "code",
   "execution_count": null,
   "id": "5db18af4",
   "metadata": {},
   "outputs": [],
   "source": [
    "# For loop: Print numbers from 1 to 5\n",
    "for i in range(1, 6):\n",
    "    print(\"For loop iteration:\", i)\n",
    "\n",
    "# While loop: Print numbers from 5 down to 1\n",
    "count = 5\n",
    "while count > 0:\n",
    "    print(\"While loop iteration:\", count)\n",
    "    count -= 1"
   ]
  },
  {
   "cell_type": "markdown",
   "id": "1b85b178",
   "metadata": {},
   "source": [
    "## Use Conditional Statements\n",
    "\n",
    "Implement if-elif-else statements to handle different conditions."
   ]
  },
  {
   "cell_type": "code",
   "execution_count": null,
   "id": "3becbb48",
   "metadata": {},
   "outputs": [],
   "source": [
    "def check_number(num):\n",
    "    if num > 0:\n",
    "        print(f\"{num} is positive.\")\n",
    "    elif num < 0:\n",
    "        print(f\"{num} is negative.\")\n",
    "    else:\n",
    "        print(f\"{num} is zero.\")\n",
    "\n",
    "# Example usage\n",
    "check_number(10)\n",
    "check_number(-3)\n",
    "check_number(0)"
   ]
  },
  {
   "cell_type": "markdown",
   "id": "3da9aa0e",
   "metadata": {},
   "source": [
    "## Handle Exceptions\n",
    "\n",
    "Use try-except blocks to handle potential errors in the code."
   ]
  },
  {
   "cell_type": "code",
   "execution_count": null,
   "id": "755bbd5a",
   "metadata": {},
   "outputs": [],
   "source": [
    "try:\n",
    "    numerator = 10\n",
    "    denominator = 0\n",
    "    result = numerator / denominator\n",
    "except ZeroDivisionError:\n",
    "    print(\"Error: Cannot divide by zero.\")\n",
    "except Exception as e:\n",
    "    print(\"An unexpected error occurred:\", e)\n",
    "else:\n",
    "    print(\"Division result:\", result)"
   ]
  },
  {
   "cell_type": "markdown",
   "id": "bdcb0eba",
   "metadata": {},
   "source": [
    "## Work with Lists\n",
    "\n",
    "Perform operations like appending, removing, and iterating over elements in a list."
   ]
  },
  {
   "cell_type": "code",
   "execution_count": null,
   "id": "2eee184f",
   "metadata": {},
   "outputs": [],
   "source": [
    "fruits = [\"apple\", \"banana\", \"cherry\"]\n",
    "\n",
    "# Append an element\n",
    "fruits.append(\"orange\")\n",
    "print(\"After append:\", fruits)\n",
    "\n",
    "# Remove an element\n",
    "fruits.remove(\"banana\")\n",
    "print(\"After remove:\", fruits)\n",
    "\n",
    "# Iterate over the list\n",
    "for fruit in fruits:\n",
    "    print(\"Fruit:\", fruit)"
   ]
  },
  {
   "cell_type": "markdown",
   "id": "a180d4d3",
   "metadata": {},
   "source": [
    "## Work with Dictionaries\n",
    "\n",
    "Perform operations like adding, updating, and retrieving key-value pairs in a dictionary."
   ]
  },
  {
   "cell_type": "code",
   "execution_count": null,
   "id": "9bf61b37",
   "metadata": {},
   "outputs": [],
   "source": [
    "person = {\"name\": \"Alice\", \"age\": 30}\n",
    "\n",
    "# Add a new key-value pair\n",
    "person[\"city\"] = \"New York\"\n",
    "\n",
    "# Update an existing value\n",
    "person[\"age\"] = 31\n",
    "\n",
    "# Retrieve values\n",
    "print(\"Name:\", person[\"name\"])\n",
    "print(\"Age:\", person[\"age\"])\n",
    "print(\"City:\", person[\"city\"])\n",
    "\n",
    "# Iterate over key-value pairs\n",
    "for key, value in person.items():\n",
    "    print(f\"{key}: {value}\")"
   ]
  },
  {
   "cell_type": "markdown",
   "id": "39992701",
   "metadata": {},
   "source": [
    "## Use Classes and Objects\n",
    "\n",
    "Define a class, create objects, and use methods and attributes."
   ]
  },
  {
   "cell_type": "code",
   "execution_count": null,
   "id": "e6eab3d9",
   "metadata": {},
   "outputs": [],
   "source": [
    "class Dog:\n",
    "    def __init__(self, name, breed):\n",
    "        self.name = name\n",
    "        self.breed = breed\n",
    "\n",
    "    def bark(self):\n",
    "        print(f\"{self.name} says woof!\")\n",
    "\n",
    "# Create an object\n",
    "my_dog = Dog(\"Buddy\", \"Golden Retriever\")\n",
    "\n",
    "# Access attributes and call methods\n",
    "print(\"Dog's name:\", my_dog.name)\n",
    "print(\"Dog's breed:\", my_dog.breed)\n",
    "my_dog.bark()"
   ]
  }
 ],
 "metadata": {
  "language_info": {
   "name": "python"
  }
 },
 "nbformat": 4,
 "nbformat_minor": 5
}
