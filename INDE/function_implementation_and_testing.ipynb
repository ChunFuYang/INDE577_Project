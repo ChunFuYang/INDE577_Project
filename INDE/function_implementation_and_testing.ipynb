{
 "cells": [
  {
   "cell_type": "markdown",
   "id": "f3f5433c",
   "metadata": {},
   "source": [
    "# Define the Problem\n",
    "\n",
    "In this notebook, we will implement and test a set of functions as required by the problem statement. The process will include:\n",
    "\n",
    "- Describing the problem in detail.\n",
    "- Listing all the functions that need to be implemented."
   ]
  },
  {
   "cell_type": "markdown",
   "id": "c1b9caf4",
   "metadata": {},
   "source": [
    "## Problem Description\n",
    "\n",
    "Suppose we are tasked with creating a small utility library for basic mathematical operations and string manipulations. The functions to be implemented are:\n",
    "\n",
    "1. `add(a, b)`: Returns the sum of two numbers.\n",
    "2. `subtract(a, b)`: Returns the difference between two numbers.\n",
    "3. `multiply(a, b)`: Returns the product of two numbers.\n",
    "4. `divide(a, b)`: Returns the quotient of two numbers (handle division by zero).\n",
    "5. `reverse_string(s)`: Returns the reverse of a given string.\n",
    "6. `is_palindrome(s)`: Checks if a given string is a palindrome."
   ]
  },
  {
   "cell_type": "markdown",
   "id": "42b0343b",
   "metadata": {},
   "source": [
    "# Implement the Functions\n",
    "\n",
    "Below, we will implement each of the functions listed above."
   ]
  },
  {
   "cell_type": "code",
   "execution_count": null,
   "id": "c825950d",
   "metadata": {},
   "outputs": [],
   "source": [
    "def add(a, b):\n",
    "    \"\"\"Returns the sum of two numbers.\"\"\"\n",
    "    return a + b\n",
    "\n",
    "def subtract(a, b):\n",
    "    \"\"\"Returns the difference between two numbers.\"\"\"\n",
    "    return a - b\n",
    "\n",
    "def multiply(a, b):\n",
    "    \"\"\"Returns the product of two numbers.\"\"\"\n",
    "    return a * b\n",
    "\n",
    "def divide(a, b):\n",
    "    \"\"\"Returns the quotient of two numbers. Raises ValueError if b is zero.\"\"\"\n",
    "    if b == 0:\n",
    "        raise ValueError(\"Cannot divide by zero.\")\n",
    "    return a / b\n",
    "\n",
    "def reverse_string(s):\n",
    "    \"\"\"Returns the reverse of the input string.\"\"\"\n",
    "    return s[::-1]\n",
    "\n",
    "def is_palindrome(s):\n",
    "    \"\"\"Checks if the input string is a palindrome.\"\"\"\n",
    "    s_clean = ''.join(c.lower() for c in s if c.isalnum())\n",
    "    return s_clean == s_clean[::-1]"
   ]
  },
  {
   "cell_type": "markdown",
   "id": "e190c93f",
   "metadata": {},
   "source": [
    "# Test the Functions\n",
    "\n",
    "Let's write test cases to verify the correctness of each function using sample inputs and expected outputs."
   ]
  },
  {
   "cell_type": "code",
   "execution_count": null,
   "id": "bcfa76a7",
   "metadata": {},
   "outputs": [],
   "source": [
    "# Test add\n",
    "assert add(2, 3) == 5\n",
    "assert add(-1, 1) == 0\n",
    "\n",
    "# Test subtract\n",
    "assert subtract(5, 3) == 2\n",
    "assert subtract(0, 4) == -4\n",
    "\n",
    "# Test multiply\n",
    "assert multiply(4, 3) == 12\n",
    "assert multiply(-2, 3) == -6\n",
    "\n",
    "# Test divide\n",
    "assert divide(10, 2) == 5\n",
    "try:\n",
    "    divide(5, 0)\n",
    "    assert False, \"Expected ValueError for division by zero\"\n",
    "except ValueError:\n",
    "    pass\n",
    "\n",
    "# Test reverse_string\n",
    "assert reverse_string(\"hello\") == \"olleh\"\n",
    "assert reverse_string(\"\") == \"\"\n",
    "\n",
    "# Test is_palindrome\n",
    "assert is_palindrome(\"racecar\") == True\n",
    "assert is_palindrome(\"A man, a plan, a canal: Panama\") == True\n",
    "assert is_palindrome(\"hello\") == False\n",
    "\n",
    "print(\"All tests passed!\")"
   ]
  },
  {
   "cell_type": "markdown",
   "id": "17191e85",
   "metadata": {},
   "source": [
    "# Integrate All Functions\n",
    "\n",
    "Now, let's demonstrate how all the implemented functions can be used together in a simple workflow."
   ]
  },
  {
   "cell_type": "code",
   "execution_count": null,
   "id": "192ff6b6",
   "metadata": {},
   "outputs": [],
   "source": [
    "# Example workflow using all functions\n",
    "\n",
    "a = 15\n",
    "b = 5\n",
    "s = \"Madam\"\n",
    "\n",
    "print(f\"add({a}, {b}) = {add(a, b)}\")\n",
    "print(f\"subtract({a}, {b}) = {subtract(a, b)}\")\n",
    "print(f\"multiply({a}, {b}) = {multiply(a, b)}\")\n",
    "print(f\"divide({a}, {b}) = {divide(a, b)}\")\n",
    "\n",
    "print(f\"reverse_string('{s}') = '{reverse_string(s)}'\")\n",
    "print(f\"is_palindrome('{s}') = {is_palindrome(s)}\")"
   ]
  }
 ],
 "metadata": {
  "language_info": {
   "name": "python"
  }
 },
 "nbformat": 4,
 "nbformat_minor": 5
}
