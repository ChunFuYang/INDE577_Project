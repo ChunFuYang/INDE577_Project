{
 "cells": [
  {
   "cell_type": "markdown",
   "id": "4f56721c",
   "metadata": {},
   "source": [
    "# The Perceptron Algorithm\n",
    "This notebook demonstrates the Perceptron algorithm on a real-world binary classification dataset (Breast Cancer Wisconsin dataset from sklearn)."
   ]
  },
  {
   "cell_type": "code",
   "execution_count": null,
   "id": "68dd84b1",
   "metadata": {},
   "outputs": [],
   "source": [
    "# Import libraries\n",
    "import numpy as np\n",
    "import matplotlib.pyplot as plt\n",
    "from sklearn.datasets import load_breast_cancer\n",
    "from sklearn.model_selection import train_test_split\n",
    "from sklearn.preprocessing import StandardScaler\n",
    "from sklearn.metrics import accuracy_score, classification_report"
   ]
  },
  {
   "cell_type": "markdown",
   "id": "576f6a8a",
   "metadata": {},
   "source": [
    "## Load and Prepare the Data"
   ]
  },
  {
   "cell_type": "code",
   "execution_count": null,
   "id": "f1b0519a",
   "metadata": {},
   "outputs": [],
   "source": [
    "data = load_breast_cancer()\n",
    "X = data.data\n",
    "y = data.target\n",
    "X_train, X_test, y_train, y_test = train_test_split(X, y, test_size=0.2, random_state=42)\n",
    "scaler = StandardScaler()\n",
    "X_train = scaler.fit_transform(X_train)\n",
    "X_test = scaler.transform(X_test)"
   ]
  },
  {
   "cell_type": "markdown",
   "id": "ccbffefa",
   "metadata": {},
   "source": [
    "## Implement the Perceptron Algorithm (from scratch)"
   ]
  },
  {
   "cell_type": "code",
   "execution_count": null,
   "id": "3a666b22",
   "metadata": {},
   "outputs": [],
   "source": [
    "class Perceptron:\n",
    "    def __init__(self, lr=0.01, n_iter=1000):\n",
    "        self.lr = lr\n",
    "        self.n_iter = n_iter\n",
    "    def fit(self, X, y):\n",
    "        self.weights = np.zeros(X.shape[1])\n",
    "        self.bias = 0\n",
    "        y_ = np.where(y <= 0, -1, 1)\n",
    "        for _ in range(self.n_iter):\n",
    "            for idx, x_i in enumerate(X):\n",
    "                linear_output = np.dot(x_i, self.weights) + self.bias\n",
    "                y_pred = np.where(linear_output >= 0, 1, -1)\n",
    "                update = self.lr * (y_[idx] - y_pred)\n",
    "                self.weights += update * x_i\n",
    "                self.bias += update\n",
    "    def predict(self, X):\n",
    "        linear_output = np.dot(X, self.weights) + self.bias\n",
    "        return np.where(linear_output >= 0, 1, 0)"
   ]
  },
  {
   "cell_type": "markdown",
   "id": "5154acae",
   "metadata": {},
   "source": [
    "## Train and Evaluate the Perceptron"
   ]
  },
  {
   "cell_type": "code",
   "execution_count": null,
   "id": "26ba256d",
   "metadata": {},
   "outputs": [],
   "source": [
    "perceptron = Perceptron(lr=0.01, n_iter=1000)\n",
    "perceptron.fit(X_train, y_train)\n",
    "y_pred = perceptron.predict(X_test)\n",
    "print('Accuracy:', accuracy_score(y_test, y_pred))\n",
    "print(classification_report(y_test, y_pred))"
   ]
  },
  {
   "cell_type": "markdown",
   "id": "4d6b3006",
   "metadata": {},
   "source": [
    "## Visualize Results (First Two Features)"
   ]
  },
  {
   "cell_type": "code",
   "execution_count": null,
   "id": "a0624eb3",
   "metadata": {},
   "outputs": [],
   "source": [
    "plt.figure(figsize=(8,6))\n",
    "plt.scatter(X_test[:,0], X_test[:,1], c=y_pred, cmap='bwr', alpha=0.7)\n",
    "plt.xlabel(data.feature_names[0])\n",
    "plt.ylabel(data.feature_names[1])\n",
    "plt.title('Perceptron Classification Results (Test Set)')\n",
    "plt.show()"
   ]
  }
 ],
 "metadata": {
  "language_info": {
   "name": "python"
  }
 },
 "nbformat": 4,
 "nbformat_minor": 5
}
