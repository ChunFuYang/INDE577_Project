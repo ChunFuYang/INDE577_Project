{
 "cells": [
  {
   "cell_type": "markdown",
   "id": "3321cd65",
   "metadata": {},
   "source": [
    "# Define the Function\n",
    "Write the function signature and add a docstring to describe its purpose and parameters."
   ]
  },
  {
   "cell_type": "code",
   "execution_count": null,
   "id": "72cd27c9",
   "metadata": {},
   "outputs": [],
   "source": [
    "def process_numbers(numbers):\n",
    "    \"\"\"\n",
    "    Processes a list of numbers by returning their sum, mean, and a sorted version of the list.\n",
    "\n",
    "    Parameters:\n",
    "        numbers (list of float or int): The list of numbers to process.\n",
    "\n",
    "    Returns:\n",
    "        dict: A dictionary with keys 'sum', 'mean', and 'sorted', containing the respective results.\n",
    "    \"\"\"\n",
    "    pass  # Implementation will be added in the next section"
   ]
  },
  {
   "cell_type": "markdown",
   "id": "a98b4578",
   "metadata": {},
   "source": [
    "# Implement the Functionality\n",
    "Add the logic to the function to perform the required operations."
   ]
  },
  {
   "cell_type": "code",
   "execution_count": null,
   "id": "bd0700f9",
   "metadata": {},
   "outputs": [],
   "source": [
    "def process_numbers(numbers):\n",
    "    \"\"\"\n",
    "    Processes a list of numbers by returning their sum, mean, and a sorted version of the list.\n",
    "\n",
    "    Parameters:\n",
    "        numbers (list of float or int): The list of numbers to process.\n",
    "\n",
    "    Returns:\n",
    "        dict: A dictionary with keys 'sum', 'mean', and 'sorted', containing the respective results.\n",
    "    \"\"\"\n",
    "    total = sum(numbers)\n",
    "    mean = total / len(numbers)\n",
    "    sorted_numbers = sorted(numbers)\n",
    "    return {\n",
    "        'sum': total,\n",
    "        'mean': mean,\n",
    "        'sorted': sorted_numbers\n",
    "    }"
   ]
  },
  {
   "cell_type": "markdown",
   "id": "29fb38af",
   "metadata": {},
   "source": [
    "# Test the Implementation\n",
    "Write test cases to validate the function's behavior with normal inputs."
   ]
  },
  {
   "cell_type": "code",
   "execution_count": null,
   "id": "dc18d2fa",
   "metadata": {},
   "outputs": [],
   "source": [
    "# Test with a typical list of numbers\n",
    "test_list = [5, 2, 9, 1, 7]\n",
    "result = process_numbers(test_list)\n",
    "print(\"Input:\", test_list)\n",
    "print(\"Sum:\", result['sum'])\n",
    "print(\"Mean:\", result['mean'])\n",
    "print(\"Sorted:\", result['sorted'])"
   ]
  },
  {
   "cell_type": "markdown",
   "id": "dde3cd19",
   "metadata": {},
   "source": [
    "# Handle Edge Cases\n",
    "Add additional logic and tests to handle edge cases and ensure robustness."
   ]
  },
  {
   "cell_type": "code",
   "execution_count": null,
   "id": "f115b9f4",
   "metadata": {},
   "outputs": [],
   "source": [
    "def process_numbers(numbers):\n",
    "    \"\"\"\n",
    "    Processes a list of numbers by returning their sum, mean, and a sorted version of the list.\n",
    "\n",
    "    Parameters:\n",
    "        numbers (list of float or int): The list of numbers to process.\n",
    "\n",
    "    Returns:\n",
    "        dict: A dictionary with keys 'sum', 'mean', and 'sorted', containing the respective results.\n",
    "\n",
    "    Raises:\n",
    "        ValueError: If the input is not a list or is empty.\n",
    "        TypeError: If any element in the list is not a number.\n",
    "    \"\"\"\n",
    "    if not isinstance(numbers, list):\n",
    "        raise ValueError(\"Input must be a list.\")\n",
    "    if len(numbers) == 0:\n",
    "        raise ValueError(\"Input list cannot be empty.\")\n",
    "    if not all(isinstance(x, (int, float)) for x in numbers):\n",
    "        raise TypeError(\"All elements in the list must be numbers.\")\n",
    "\n",
    "    total = sum(numbers)\n",
    "    mean = total / len(numbers)\n",
    "    sorted_numbers = sorted(numbers)\n",
    "    return {\n",
    "        'sum': total,\n",
    "        'mean': mean,\n",
    "        'sorted': sorted_numbers\n",
    "    }\n",
    "\n",
    "# Edge case tests\n",
    "try:\n",
    "    process_numbers([])  # Empty list\n",
    "except ValueError as e:\n",
    "    print(\"Caught expected ValueError for empty list:\", e)\n",
    "\n",
    "try:\n",
    "    process_numbers(\"123\")  # Not a list\n",
    "except ValueError as e:\n",
    "    print(\"Caught expected ValueError for non-list input:\", e)\n",
    "\n",
    "try:\n",
    "    process_numbers([1, 'a', 3])  # Non-numeric element\n",
    "except TypeError as e:\n",
    "    print(\"Caught expected TypeError for non-numeric element:\", e)"
   ]
  },
  {
   "cell_type": "markdown",
   "id": "bd35a406",
   "metadata": {},
   "source": [
    "# Function Implementation Notebook\n",
    "\n",
    "This notebook guides you through defining, implementing, testing, and refining a function according to best practices."
   ]
  },
  {
   "cell_type": "markdown",
   "id": "a8664ea1",
   "metadata": {},
   "source": [
    "## Define the Function\n",
    "\n",
    "Write the function signature and docstring to describe its purpose and parameters."
   ]
  },
  {
   "cell_type": "code",
   "execution_count": null,
   "id": "ad8b1725",
   "metadata": {},
   "outputs": [],
   "source": [
    "def example_function(numbers):\n",
    "    \"\"\"\n",
    "    Calculate the sum of a list of numbers.\n",
    "\n",
    "    Parameters:\n",
    "        numbers (list of int or float): The list of numbers to sum.\n",
    "\n",
    "    Returns:\n",
    "        float: The sum of the numbers in the list.\n",
    "    \"\"\"\n",
    "    pass  # Implementation will be added in the next section"
   ]
  },
  {
   "cell_type": "markdown",
   "id": "fd64fa79",
   "metadata": {},
   "source": [
    "## Implement the Functionality\n",
    "\n",
    "Add the logic to implement the desired functionality step by step."
   ]
  },
  {
   "cell_type": "code",
   "execution_count": null,
   "id": "26457106",
   "metadata": {},
   "outputs": [],
   "source": [
    "def example_function(numbers):\n",
    "    \"\"\"\n",
    "    Calculate the sum of a list of numbers.\n",
    "\n",
    "    Parameters:\n",
    "        numbers (list of int or float): The list of numbers to sum.\n",
    "\n",
    "    Returns:\n",
    "        float: The sum of the numbers in the list.\n",
    "    \"\"\"\n",
    "    total = 0\n",
    "    for num in numbers:\n",
    "        total += num\n",
    "    return total"
   ]
  },
  {
   "cell_type": "markdown",
   "id": "579658a9",
   "metadata": {},
   "source": [
    "## Test the Implementation\n",
    "\n",
    "Write test cases to verify the function works as expected with various inputs."
   ]
  },
  {
   "cell_type": "code",
   "execution_count": null,
   "id": "10181639",
   "metadata": {},
   "outputs": [],
   "source": [
    "# Test cases\n",
    "print(example_function([1, 2, 3, 4, 5]))  # Expected output: 15\n",
    "print(example_function([0, -1, 1]))       # Expected output: 0\n",
    "print(example_function([10.5, 4.5]))      # Expected output: 15.0\n",
    "print(example_function([]))               # Expected output: 0"
   ]
  },
  {
   "cell_type": "markdown",
   "id": "3fd4f9d9",
   "metadata": {},
   "source": [
    "## Handle Edge Cases\n",
    "\n",
    "Identify and handle edge cases to ensure robustness of the implementation."
   ]
  },
  {
   "cell_type": "code",
   "execution_count": null,
   "id": "1c9c1e33",
   "metadata": {},
   "outputs": [],
   "source": [
    "def example_function(numbers):\n",
    "    \"\"\"\n",
    "    Calculate the sum of a list of numbers.\n",
    "\n",
    "    Parameters:\n",
    "        numbers (list of int or float): The list of numbers to sum.\n",
    "\n",
    "    Returns:\n",
    "        float: The sum of the numbers in the list.\n",
    "\n",
    "    Raises:\n",
    "        TypeError: If any element in the list is not a number.\n",
    "    \"\"\"\n",
    "    total = 0\n",
    "    for num in numbers:\n",
    "        if not isinstance(num, (int, float)):\n",
    "            raise TypeError(f\"All elements must be int or float, got {type(num)}\")\n",
    "        total += num\n",
    "    return total"
   ]
  },
  {
   "cell_type": "code",
   "execution_count": null,
   "id": "410dc074",
   "metadata": {},
   "outputs": [],
   "source": [
    "# Edge case tests\n",
    "try:\n",
    "    print(example_function(['a', 2, 3]))\n",
    "except TypeError as e:\n",
    "    print(\"Caught expected TypeError:\", e)\n",
    "\n",
    "try:\n",
    "    print(example_function([None, 1]))\n",
    "except TypeError as e:\n",
    "    print(\"Caught expected TypeError:\", e)"
   ]
  },
  {
   "cell_type": "markdown",
   "id": "baf418b7",
   "metadata": {},
   "source": [
    "# Function Implementation Notebook\n",
    "\n",
    "A Jupyter notebook to implement all of them."
   ]
  },
  {
   "cell_type": "markdown",
   "id": "01d33411",
   "metadata": {},
   "source": [
    "## Define the Function\n",
    "\n",
    "Write the function signature and docstring to describe its purpose and parameters."
   ]
  },
  {
   "cell_type": "code",
   "execution_count": null,
   "id": "babe2ec6",
   "metadata": {},
   "outputs": [],
   "source": [
    "def example_function(x, y):\n",
    "    \"\"\"\n",
    "    Adds two numbers together.\n",
    "\n",
    "    Parameters:\n",
    "    x (int or float): The first number.\n",
    "    y (int or float): The second number.\n",
    "\n",
    "    Returns:\n",
    "    int or float: The sum of x and y.\n",
    "    \"\"\"\n",
    "    pass  # Implementation will be added in the next section"
   ]
  },
  {
   "cell_type": "markdown",
   "id": "932bf785",
   "metadata": {},
   "source": [
    "## Implement the Functionality\n",
    "\n",
    "Add the logic to implement the desired functionality step by step."
   ]
  },
  {
   "cell_type": "code",
   "execution_count": null,
   "id": "f89dd9b7",
   "metadata": {},
   "outputs": [],
   "source": [
    "def example_function(x, y):\n",
    "    \"\"\"\n",
    "    Adds two numbers together.\n",
    "\n",
    "    Parameters:\n",
    "    x (int or float): The first number.\n",
    "    y (int or float): The second number.\n",
    "\n",
    "    Returns:\n",
    "    int or float: The sum of x and y.\n",
    "    \"\"\"\n",
    "    return x + y"
   ]
  },
  {
   "cell_type": "markdown",
   "id": "6438511c",
   "metadata": {},
   "source": [
    "## Test the Implementation\n",
    "\n",
    "Write test cases to validate the function's behavior with various inputs."
   ]
  },
  {
   "cell_type": "code",
   "execution_count": null,
   "id": "9ae1c59b",
   "metadata": {},
   "outputs": [],
   "source": [
    "# Test cases\n",
    "print(example_function(2, 3))        # Expected output: 5\n",
    "print(example_function(-1, 5))       # Expected output: 4\n",
    "print(example_function(0, 0))        # Expected output: 0\n",
    "print(example_function(2.5, 3.1))    # Expected output: 5.6"
   ]
  },
  {
   "cell_type": "markdown",
   "id": "a447e86f",
   "metadata": {},
   "source": [
    "## Handle Edge Cases\n",
    "\n",
    "Identify and handle edge cases to ensure robustness of the implementation."
   ]
  },
  {
   "cell_type": "code",
   "execution_count": null,
   "id": "5dcebe59",
   "metadata": {},
   "outputs": [],
   "source": [
    "def example_function(x, y):\n",
    "    \"\"\"\n",
    "    Adds two numbers together.\n",
    "\n",
    "    Parameters:\n",
    "    x (int or float): The first number.\n",
    "    y (int or float): The second number.\n",
    "\n",
    "    Returns:\n",
    "    int or float: The sum of x and y.\n",
    "\n",
    "    Raises:\n",
    "    TypeError: If x or y is not a number.\n",
    "    \"\"\"\n",
    "    if not isinstance(x, (int, float)) or not isinstance(y, (int, float)):\n",
    "        raise TypeError(\"Both x and y must be numbers (int or float).\")\n",
    "    return x + y\n",
    "\n",
    "# Edge case tests\n",
    "try:\n",
    "    print(example_function(\"a\", 2))\n",
    "except TypeError as e:\n",
    "    print(\"Caught expected TypeError:\", e)\n",
    "\n",
    "try:\n",
    "    print(example_function(None, 2))\n",
    "except TypeError as e:\n",
    "    print(\"Caught expected TypeError:\", e)"
   ]
  },
  {
   "cell_type": "markdown",
   "id": "5951b37b",
   "metadata": {},
   "source": [
    "# Define the Function\n",
    "Write the function signature and docstring to define the purpose and parameters of the function."
   ]
  },
  {
   "cell_type": "code",
   "execution_count": null,
   "id": "d3e4d939",
   "metadata": {},
   "outputs": [],
   "source": [
    "def example_function(x, y):\n",
    "    \"\"\"\n",
    "    Adds two numbers together.\n",
    "\n",
    "    Parameters:\n",
    "    x (int or float): The first number.\n",
    "    y (int or float): The second number.\n",
    "\n",
    "    Returns:\n",
    "    int or float: The sum of x and y.\n",
    "    \"\"\"\n",
    "    pass  # Implementation will be added in the next section"
   ]
  },
  {
   "cell_type": "markdown",
   "id": "f8d0652a",
   "metadata": {},
   "source": [
    "# Implement the Functionality\n",
    "Add the core logic to the function to implement the desired functionality."
   ]
  },
  {
   "cell_type": "code",
   "execution_count": null,
   "id": "9cfa07dc",
   "metadata": {},
   "outputs": [],
   "source": [
    "def example_function(x, y):\n",
    "    \"\"\"\n",
    "    Adds two numbers together.\n",
    "\n",
    "    Parameters:\n",
    "    x (int or float): The first number.\n",
    "    y (int or float): The second number.\n",
    "\n",
    "    Returns:\n",
    "    int or float: The sum of x and y.\n",
    "    \"\"\"\n",
    "    return x + y"
   ]
  },
  {
   "cell_type": "markdown",
   "id": "e831360f",
   "metadata": {},
   "source": [
    "# Test the Implementation\n",
    "Write test cases to validate the function's behavior with various inputs."
   ]
  },
  {
   "cell_type": "code",
   "execution_count": null,
   "id": "8ce7ebfe",
   "metadata": {},
   "outputs": [],
   "source": [
    "# Test cases\n",
    "print(example_function(2, 3))        # Expected output: 5\n",
    "print(example_function(-1, 5))       # Expected output: 4\n",
    "print(example_function(2.5, 3.5))    # Expected output: 6.0\n",
    "print(example_function(0, 0))        # Expected output: 0"
   ]
  },
  {
   "cell_type": "markdown",
   "id": "f2a1f3da",
   "metadata": {},
   "source": [
    "# Handle Edge Cases\n",
    "Modify the function to handle edge cases and ensure robustness."
   ]
  },
  {
   "cell_type": "code",
   "execution_count": null,
   "id": "50d937f1",
   "metadata": {},
   "outputs": [],
   "source": [
    "def example_function(x, y):\n",
    "    \"\"\"\n",
    "    Adds two numbers together.\n",
    "\n",
    "    Parameters:\n",
    "    x (int or float): The first number.\n",
    "    y (int or float): The second number.\n",
    "\n",
    "    Returns:\n",
    "    int or float: The sum of x and y.\n",
    "\n",
    "    Raises:\n",
    "    TypeError: If x or y is not a number.\n",
    "    \"\"\"\n",
    "    if not isinstance(x, (int, float)) or not isinstance(y, (int, float)):\n",
    "        raise TypeError(\"Both x and y must be int or float.\")\n",
    "    return x + y"
   ]
  },
  {
   "cell_type": "code",
   "execution_count": null,
   "id": "c44d1bdc",
   "metadata": {},
   "outputs": [],
   "source": [
    "# Edge case tests\n",
    "try:\n",
    "    print(example_function(\"a\", 2))\n",
    "except TypeError as e:\n",
    "    print(e)  # Expected: Both x and y must be int or float.\n",
    "\n",
    "try:\n",
    "    print(example_function(2, None))\n",
    "except TypeError as e:\n",
    "    print(e)  # Expected: Both x and y must be int or float."
   ]
  }
 ],
 "metadata": {
  "language_info": {
   "name": "python"
  }
 },
 "nbformat": 4,
 "nbformat_minor": 5
}
