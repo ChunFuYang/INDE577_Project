{
 "cells": [
  {
   "cell_type": "markdown",
   "id": "fa21161d",
   "metadata": {},
   "source": [
    "# Principal Component Analysis (PCA)\n",
    "This notebook demonstrates PCA on a real-world dataset (Wine dataset from sklearn)."
   ]
  },
  {
   "cell_type": "code",
   "execution_count": null,
   "id": "a8d23525",
   "metadata": {},
   "outputs": [],
   "source": [
    "import numpy as np\n",
    "import matplotlib.pyplot as plt\n",
    "from sklearn.datasets import load_wine\n",
    "from sklearn.decomposition import PCA"
   ]
  },
  {
   "cell_type": "markdown",
   "id": "95d0f5c4",
   "metadata": {},
   "source": [
    "## Load and Prepare the Data"
   ]
  },
  {
   "cell_type": "code",
   "execution_count": null,
   "id": "e328716e",
   "metadata": {},
   "outputs": [],
   "source": [
    "wine = load_wine()\n",
    "X = wine.data\n",
    "y = wine.target"
   ]
  },
  {
   "cell_type": "markdown",
   "id": "546e2343",
   "metadata": {},
   "source": [
    "## Apply PCA and Visualize the First Two Principal Components"
   ]
  },
  {
   "cell_type": "code",
   "execution_count": null,
   "id": "f4403945",
   "metadata": {},
   "outputs": [],
   "source": [
    "pca = PCA(n_components=2)\n",
    "X_pca = pca.fit_transform(X)\n",
    "plt.figure(figsize=(8,6))\n",
    "scatter = plt.scatter(X_pca[:,0], X_pca[:,1], c=y, cmap='tab10', alpha=0.7)\n",
    "plt.xlabel('Principal Component 1')\n",
    "plt.ylabel('Principal Component 2')\n",
    "plt.title('PCA of Wine Dataset')\n",
    "plt.legend(*scatter.legend_elements(), title='Classes')\n",
    "plt.show()"
   ]
  }
 ],
 "metadata": {
  "language_info": {
   "name": "python"
  }
 },
 "nbformat": 4,
 "nbformat_minor": 5
}
