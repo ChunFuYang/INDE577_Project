{
 "cells": [
  {
   "cell_type": "markdown",
   "id": "c09857c9",
   "metadata": {},
   "source": [
    "# DBSCAN Clustering\n",
    "This notebook demonstrates DBSCAN clustering on a real-world dataset (Iris dataset from sklearn)."
   ]
  },
  {
   "cell_type": "code",
   "execution_count": null,
   "id": "ccf39571",
   "metadata": {},
   "outputs": [],
   "source": [
    "import numpy as np\n",
    "import matplotlib.pyplot as plt\n",
    "from sklearn.datasets import load_iris\n",
    "from sklearn.cluster import DBSCAN\n",
    "from sklearn.decomposition import PCA"
   ]
  },
  {
   "cell_type": "markdown",
   "id": "ac6952e8",
   "metadata": {},
   "source": [
    "## Load and Prepare the Data"
   ]
  },
  {
   "cell_type": "code",
   "execution_count": null,
   "id": "71f15d38",
   "metadata": {},
   "outputs": [],
   "source": [
    "iris = load_iris()\n",
    "X = iris.data"
   ]
  },
  {
   "cell_type": "markdown",
   "id": "d213ea4b",
   "metadata": {},
   "source": [
    "## Apply DBSCAN Clustering"
   ]
  },
  {
   "cell_type": "code",
   "execution_count": null,
   "id": "55af789d",
   "metadata": {},
   "outputs": [],
   "source": [
    "dbscan = DBSCAN(eps=0.5, min_samples=5)\n",
    "clusters = dbscan.fit_predict(X)"
   ]
  },
  {
   "cell_type": "markdown",
   "id": "2df0baa4",
   "metadata": {},
   "source": [
    "## Visualize Clusters with PCA"
   ]
  },
  {
   "cell_type": "code",
   "execution_count": null,
   "id": "2a0f6cc6",
   "metadata": {},
   "outputs": [],
   "source": [
    "pca = PCA(n_components=2)\n",
    "X_pca = pca.fit_transform(X)\n",
    "plt.figure(figsize=(8,6))\n",
    "plt.scatter(X_pca[:,0], X_pca[:,1], c=clusters, cmap='tab10', alpha=0.7)\n",
    "plt.title('DBSCAN Clustering Results (PCA-reduced)')\n",
    "plt.xlabel('PCA 1')\n",
    "plt.ylabel('PCA 2')\n",
    "plt.show()"
   ]
  }
 ],
 "metadata": {
  "language_info": {
   "name": "python"
  }
 },
 "nbformat": 4,
 "nbformat_minor": 5
}
