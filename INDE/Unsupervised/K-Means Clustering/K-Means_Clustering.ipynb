{
 "cells": [
  {
   "cell_type": "markdown",
   "id": "cf239b8e",
   "metadata": {},
   "source": [
    "# K-Means Clustering\n",
    "This notebook demonstrates K-Means Clustering on a real-world dataset (Iris dataset from sklearn)."
   ]
  },
  {
   "cell_type": "code",
   "execution_count": null,
   "id": "4ecc64b1",
   "metadata": {},
   "outputs": [],
   "source": [
    "import numpy as np\n",
    "import matplotlib.pyplot as plt\n",
    "from sklearn.datasets import load_iris\n",
    "from sklearn.cluster import KMeans\n",
    "from sklearn.decomposition import PCA"
   ]
  },
  {
   "cell_type": "markdown",
   "id": "cc5fb86c",
   "metadata": {},
   "source": [
    "## Load and Prepare the Data"
   ]
  },
  {
   "cell_type": "code",
   "execution_count": null,
   "id": "63651d97",
   "metadata": {},
   "outputs": [],
   "source": [
    "iris = load_iris()\n",
    "X = iris.data"
   ]
  },
  {
   "cell_type": "markdown",
   "id": "584a4a5c",
   "metadata": {},
   "source": [
    "## Apply K-Means Clustering"
   ]
  },
  {
   "cell_type": "code",
   "execution_count": null,
   "id": "39085464",
   "metadata": {},
   "outputs": [],
   "source": [
    "kmeans = KMeans(n_clusters=3, random_state=42)\n",
    "clusters = kmeans.fit_predict(X)"
   ]
  },
  {
   "cell_type": "markdown",
   "id": "281e9847",
   "metadata": {},
   "source": [
    "## Visualize Clusters with PCA"
   ]
  },
  {
   "cell_type": "code",
   "execution_count": null,
   "id": "88eae3ec",
   "metadata": {},
   "outputs": [],
   "source": [
    "pca = PCA(n_components=2)\n",
    "X_pca = pca.fit_transform(X)\n",
    "plt.figure(figsize=(8,6))\n",
    "plt.scatter(X_pca[:,0], X_pca[:,1], c=clusters, cmap='viridis', alpha=0.7)\n",
    "plt.title('K-Means Clustering Results (PCA-reduced)')\n",
    "plt.xlabel('PCA 1')\n",
    "plt.ylabel('PCA 2')\n",
    "plt.show()"
   ]
  }
 ],
 "metadata": {
  "language_info": {
   "name": "python"
  }
 },
 "nbformat": 4,
 "nbformat_minor": 5
}
