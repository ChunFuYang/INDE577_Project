{
 "cells": [
  {
   "cell_type": "markdown",
   "id": "915597f5",
   "metadata": {},
   "source": [
    "# Image Compression with Singular Value Decomposition (SVD)\n",
    "This notebook demonstrates image compression using SVD on a real-world image (sample image from scikit-image)."
   ]
  },
  {
   "cell_type": "code",
   "execution_count": null,
   "id": "93cbebde",
   "metadata": {},
   "outputs": [],
   "source": [
    "import numpy as np\n",
    "import matplotlib.pyplot as plt\n",
    "from skimage import data, color\n",
    "from skimage.transform import resize"
   ]
  },
  {
   "cell_type": "markdown",
   "id": "49fa8b21",
   "metadata": {},
   "source": [
    "## Load and Prepare the Image (Grayscale)"
   ]
  },
  {
   "cell_type": "code",
   "execution_count": null,
   "id": "8a994e3e",
   "metadata": {},
   "outputs": [],
   "source": [
    "image = color.rgb2gray(data.astronaut())\n",
    "image = resize(image, (128, 128), anti_aliasing=True)\n",
    "plt.figure(figsize=(4,4))\n",
    "plt.imshow(image, cmap='gray')\n",
    "plt.title('Original Image')\n",
    "plt.axis('off')\n",
    "plt.show()"
   ]
  },
  {
   "cell_type": "markdown",
   "id": "938c8fb1",
   "metadata": {},
   "source": [
    "## Apply SVD and Compress the Image"
   ]
  },
  {
   "cell_type": "code",
   "execution_count": null,
   "id": "2d47a721",
   "metadata": {},
   "outputs": [],
   "source": [
    "U, S, VT = np.linalg.svd(image, full_matrices=False)\n",
    "def plot_svd_compression(k):\n",
    "    compressed = np.dot(U[:,:k], np.dot(np.diag(S[:k]), VT[:k,:]))\n",
    "    plt.figure(figsize=(4,4))\n",
    "    plt.imshow(compressed, cmap='gray')\n",
    "    plt.title(f'SVD Compression (k={k})')\n",
    "    plt.axis('off')\n",
    "    plt.show()\n",
    "plot_svd_compression(5)\n",
    "plot_svd_compression(20)\n",
    "plot_svd_compression(50)"
   ]
  }
 ],
 "metadata": {
  "language_info": {
   "name": "python"
  }
 },
 "nbformat": 4,
 "nbformat_minor": 5
}
